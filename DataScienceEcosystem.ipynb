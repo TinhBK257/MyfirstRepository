{
 "cells": [
  {
   "cell_type": "markdown",
   "id": "0f9269dd-199d-4f9b-9bd4-5019f0ef199e",
   "metadata": {},
   "source": [
    "# Data Science Tools and Ecosystem"
   ]
  },
  {
   "cell_type": "markdown",
   "id": "038b7010-2839-46d9-abf8-bbc69cce2e82",
   "metadata": {},
   "source": [
    "In this notebook, Data Science Tools and Ecosystem are summarized."
   ]
  },
  {
   "cell_type": "markdown",
   "id": "5beb3a0e-41c6-4df9-b676-e5b6858c10f8",
   "metadata": {},
   "source": [
    "**Objectives:**\n",
    "* List popular languages for Data Science\n",
    "* Commonly used libraries used by Data Scientists\n",
    "* Simple expressions in Python"
   ]
  },
  {
   "cell_type": "markdown",
   "id": "245395b4-66e7-4f15-a0aa-3aec241cc5d9",
   "metadata": {},
   "source": [
    "Some of the popular languages that Data Scientists use are:\n",
    "1. Python\n",
    "2. R\n",
    "3. SQL"
   ]
  },
  {
   "cell_type": "markdown",
   "id": "dcb0cda3-e34e-402c-8d10-512b4154ad39",
   "metadata": {},
   "source": [
    "Some of the commonly used libraries used by Data Scientists include:\n",
    "* Pychorh\n",
    "* Pandas\n",
    "* NumPy"
   ]
  },
  {
   "cell_type": "markdown",
   "id": "51b83fc9-ecc7-4a0f-aaa4-c800b2f94dc3",
   "metadata": {},
   "source": [
    "\n",
    "| Data Science Tools |\n",
    "|:--------:|\n",
    "|  Jupyter NoteBooks   |\n",
    "|  RStudio   |\n",
    "|  Visual Studio Code  |\n"
   ]
  },
  {
   "cell_type": "markdown",
   "id": "9b495a77-14ae-46a9-96bf-679b44240480",
   "metadata": {},
   "source": [
    "### Below are a few examples of evaluating arithmetic expressions in Python"
   ]
  },
  {
   "cell_type": "code",
   "execution_count": 1,
   "id": "ec1800a3-ce30-4e7a-a06c-9b63ea65e16f",
   "metadata": {
    "tags": []
   },
   "outputs": [],
   "source": [
    "#This a simple arithmetic expression to mutiply then add integers"
   ]
  },
  {
   "cell_type": "code",
   "execution_count": 2,
   "id": "a7da97e9-77b5-48e8-a9c8-7b0953d3da1d",
   "metadata": {
    "tags": []
   },
   "outputs": [
    {
     "data": {
      "text/plain": [
       "17"
      ]
     },
     "execution_count": 2,
     "metadata": {},
     "output_type": "execute_result"
    }
   ],
   "source": [
    "(3*4)+5"
   ]
  },
  {
   "cell_type": "code",
   "execution_count": 3,
   "id": "61bb9e15-ecb1-4d89-a0ca-21b2533567e2",
   "metadata": {
    "tags": []
   },
   "outputs": [],
   "source": [
    "#This will convert 200 minutes to hours by diving by 60"
   ]
  },
  {
   "cell_type": "code",
   "execution_count": 4,
   "id": "205c5b00-60c9-4166-ab3b-28565eee1b75",
   "metadata": {
    "tags": []
   },
   "outputs": [
    {
     "data": {
      "text/plain": [
       "3.3333333333333335"
      ]
     },
     "execution_count": 4,
     "metadata": {},
     "output_type": "execute_result"
    }
   ],
   "source": [
    "200/60"
   ]
  },
  {
   "cell_type": "markdown",
   "id": "d2354af2-b7f8-44fc-82cc-1a5e032115d6",
   "metadata": {},
   "source": [
    "## Author\n",
    "Tinh Nguyen"
   ]
  },
  {
   "cell_type": "code",
   "execution_count": null,
   "id": "2f70bdd3-e23f-4db7-95e7-ad5bd1df6958",
   "metadata": {},
   "outputs": [],
   "source": []
  }
 ],
 "metadata": {
  "kernelspec": {
   "display_name": "Python",
   "language": "python",
   "name": "conda-env-python-py"
  },
  "language_info": {
   "codemirror_mode": {
    "name": "ipython",
    "version": 3
   },
   "file_extension": ".py",
   "mimetype": "text/x-python",
   "name": "python",
   "nbconvert_exporter": "python",
   "pygments_lexer": "ipython3",
   "version": "3.7.12"
  }
 },
 "nbformat": 4,
 "nbformat_minor": 5
}
